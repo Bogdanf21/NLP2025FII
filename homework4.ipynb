{
  "nbformat": 4,
  "nbformat_minor": 0,
  "metadata": {
    "colab": {
      "provenance": []
    },
    "kernelspec": {
      "name": "python3",
      "display_name": "Python 3"
    },
    "language_info": {
      "name": "python"
    }
  },
  "cells": [
    {
      "cell_type": "code",
      "source": [
        "!pip install nltk"
      ],
      "metadata": {
        "colab": {
          "base_uri": "https://localhost:8080/"
        },
        "id": "kdeczYQ5ZCuR",
        "outputId": "ca37bb24-bc9b-4399-f141-0c3b007a9321"
      },
      "execution_count": null,
      "outputs": [
        {
          "output_type": "stream",
          "name": "stdout",
          "text": [
            "Requirement already satisfied: nltk in /usr/local/lib/python3.12/dist-packages (3.9.1)\n",
            "Requirement already satisfied: click in /usr/local/lib/python3.12/dist-packages (from nltk) (8.3.0)\n",
            "Requirement already satisfied: joblib in /usr/local/lib/python3.12/dist-packages (from nltk) (1.5.2)\n",
            "Requirement already satisfied: regex>=2021.8.3 in /usr/local/lib/python3.12/dist-packages (from nltk) (2024.11.6)\n",
            "Requirement already satisfied: tqdm in /usr/local/lib/python3.12/dist-packages (from nltk) (4.67.1)\n"
          ]
        }
      ]
    },
    {
      "cell_type": "code",
      "execution_count": 7,
      "metadata": {
        "id": "BA6XT7KcXg1_"
      },
      "outputs": [],
      "source": [
        "import nltk\n",
        "from nltk.parse import ChartParser\n",
        "from nltk import CFG\n",
        "\n",
        "g = CFG.fromstring(r\"\"\"\n",
        "# ----- Sentence Structure ---\n",
        "S -> NP VP\n",
        "\n",
        "# -- Verb Phrases?\n",
        "VP -> MD VPb | Cop AdjP | Vtrans NP | Aux Vbg | VP CP | VPb\n",
        "VPb -> Cop AdjP | Vtrans NP\n",
        "CP -> 'more' 'than' NP\n",
        "\n",
        "\n",
        "NP -> Det N | AdjP N | Vbg NP | NP PP | NP Conj NP | N\n",
        "#  -> 'the groom' | 'dangerous flying planes'  |\n",
        "PP -> P NP\n",
        "AdjP -> Adj | Adj AdjP\n",
        "\n",
        "# ----- Lexicon ---------\n",
        "Det -> 'the'\n",
        "Conj -> 'and'\n",
        "P -> 'of'\n",
        "MD -> 'can'\n",
        "Cop -> 'be'\n",
        "Aux -> 'were'\n",
        "Vtrans -> 'loves'\n",
        "Vbg -> 'flying'\n",
        "Adj -> 'dangerous' | 'flying'\n",
        "N -> 'planes' | 'parents' | 'bride' | 'groom'\n",
        "\"\"\")\n",
        "\n",
        "def toks(s):\n",
        "    s = s.rstrip(\".\").lower()\n",
        "    return s.split()"
      ]
    },
    {
      "cell_type": "markdown",
      "source": [
        "### **2** -  Structure Trees"
      ],
      "metadata": {
        "id": "QNDmw9m5quSM"
      }
    },
    {
      "cell_type": "code",
      "source": [
        "parser = ChartParser(g)\n",
        "\n",
        "sentences = [\n",
        "  \"Flying planes can be dangerous.\",\n",
        "  \"The parents of the bride and the groom were flying.\",\n",
        "  \"The groom loves dangerous planes more than the bride.\"\n",
        "]\n",
        "for s in sentences:\n",
        "    print(s)\n",
        "    parses = list(parser.parse(toks(s)))\n",
        "    print(\"parses:\", len(parses))\n",
        "    for t in parses[:3]:  # show a few if many\n",
        "       t.pretty_print()\n",
        "    print()"
      ],
      "metadata": {
        "id": "x8BTmpxAfm3E",
        "colab": {
          "base_uri": "https://localhost:8080/"
        },
        "outputId": "91e53ffc-eb14-487d-8887-40e39b1fc03e"
      },
      "execution_count": 8,
      "outputs": [
        {
          "output_type": "stream",
          "name": "stdout",
          "text": [
            "Flying planes can be dangerous.\n",
            "parses: 2\n",
            "                   S                   \n",
            "         __________|___                 \n",
            "        |              VP              \n",
            "        |           ___|___             \n",
            "        NP         |      VPb          \n",
            "   _____|____      |    ___|______      \n",
            " AdjP        |     |   |         AdjP  \n",
            "  |          |     |   |          |     \n",
            " Adj         N     MD Cop        Adj   \n",
            "  |          |     |   |          |     \n",
            "flying     planes can  be     dangerous\n",
            "\n",
            "                   S                   \n",
            "         __________|___                 \n",
            "        |              VP              \n",
            "        |           ___|___             \n",
            "        NP         |      VPb          \n",
            "   _____|____      |    ___|______      \n",
            "  |          NP    |   |         AdjP  \n",
            "  |          |     |   |          |     \n",
            " Vbg         N     MD Cop        Adj   \n",
            "  |          |     |   |          |     \n",
            "flying     planes can  be     dangerous\n",
            "\n",
            "\n",
            "The parents of the bride and the groom were flying.\n",
            "parses: 2\n",
            "                              S                                     \n",
            "                      ________|____________________________          \n",
            "                     NP                                    |        \n",
            "                  ___|______________________               |         \n",
            "                 NP                |        |              |        \n",
            "      ___________|___              |        |              |         \n",
            "     |               PP            |        |              |        \n",
            "     |            ___|___          |        |              |         \n",
            "     NP          |       NP        |        NP             VP       \n",
            "  ___|_____      |    ___|____     |     ___|____      ____|____     \n",
            "Det        N     P  Det       N   Conj Det       N   Aux       Vbg  \n",
            " |         |     |   |        |    |    |        |    |         |    \n",
            "the     parents  of the     bride and  the     groom were     flying\n",
            "\n",
            "                              S                                     \n",
            "                      ________|____________________________          \n",
            "                     NP                                    |        \n",
            "      _______________|________                             |         \n",
            "     |                        PP                           |        \n",
            "     |            ____________|____                        |         \n",
            "     |           |                 NP                      |        \n",
            "     |           |        _________|________               |         \n",
            "     NP          |       NP        |        NP             VP       \n",
            "  ___|_____      |    ___|____     |     ___|____      ____|____     \n",
            "Det        N     P  Det       N   Conj Det       N   Aux       Vbg  \n",
            " |         |     |   |        |    |    |        |    |         |    \n",
            "the     parents  of the     bride and  the     groom were     flying\n",
            "\n",
            "\n",
            "The groom loves dangerous planes more than the bride.\n",
            "parses: 2\n",
            "                                     S                           \n",
            "      _______________________________|_____                       \n",
            "     |                                     VP                    \n",
            "     |                    _________________|____                  \n",
            "     |                   VP                     |                \n",
            "     |                   |                      |                 \n",
            "     |                  VPb                     |                \n",
            "     |           ________|______                |                 \n",
            "     |          |               NP              CP               \n",
            "     |          |         ______|____       ____|________         \n",
            "     NP         |       AdjP         |     |    |        NP      \n",
            "  ___|____      |        |           |     |    |     ___|____    \n",
            "Det       N   Vtrans    Adj          N     |    |   Det       N  \n",
            " |        |     |        |           |     |    |    |        |   \n",
            "the     groom loves  dangerous     planes more than the     bride\n",
            "\n",
            "                                     S                           \n",
            "      _______________________________|_____                       \n",
            "     |                                     VP                    \n",
            "     |                    _________________|____                  \n",
            "     |                   VP                     |                \n",
            "     |           ________|______                |                 \n",
            "     |          |               NP              CP               \n",
            "     |          |         ______|____       ____|________         \n",
            "     NP         |       AdjP         |     |    |        NP      \n",
            "  ___|____      |        |           |     |    |     ___|____    \n",
            "Det       N   Vtrans    Adj          N     |    |   Det       N  \n",
            " |        |     |        |           |     |    |    |        |   \n",
            "the     groom loves  dangerous     planes more than the     bride\n",
            "\n",
            "\n"
          ]
        }
      ]
    },
    {
      "cell_type": "markdown",
      "source": [
        "### **3** -  Dependency Parser"
      ],
      "metadata": {
        "id": "5bKPJJcVq1_t"
      }
    },
    {
      "cell_type": "code",
      "source": [
        "import spacy\n",
        "nlp = spacy.load(\"en_core_web_sm\")\n",
        "\n",
        "\n",
        "for s in sentences:\n",
        "    print(f\"\\n{s}\")\n",
        "    doc = nlp(s)\n",
        "    for token in doc:\n",
        "        print(f\"{token.text:10} -> {token.dep_:12} ({token.head.text})\")"
      ],
      "metadata": {
        "colab": {
          "base_uri": "https://localhost:8080/"
        },
        "id": "slUiDN9VrADc",
        "outputId": "7855604e-2ac2-4c53-f0df-4b2a797285f6"
      },
      "execution_count": 9,
      "outputs": [
        {
          "output_type": "stream",
          "name": "stdout",
          "text": [
            "\n",
            "Flying planes can be dangerous.\n",
            "Flying     -> amod         (planes)\n",
            "planes     -> nsubj        (be)\n",
            "can        -> aux          (be)\n",
            "be         -> ROOT         (be)\n",
            "dangerous  -> acomp        (be)\n",
            ".          -> punct        (be)\n",
            "\n",
            "The parents of the bride and the groom were flying.\n",
            "The        -> det          (parents)\n",
            "parents    -> nsubj        (flying)\n",
            "of         -> prep         (parents)\n",
            "the        -> det          (bride)\n",
            "bride      -> pobj         (of)\n",
            "and        -> cc           (parents)\n",
            "the        -> det          (groom)\n",
            "groom      -> conj         (parents)\n",
            "were       -> aux          (flying)\n",
            "flying     -> ROOT         (flying)\n",
            ".          -> punct        (flying)\n",
            "\n",
            "The groom loves dangerous planes more than the bride.\n",
            "The        -> det          (groom)\n",
            "groom      -> nsubj        (loves)\n",
            "loves      -> ROOT         (loves)\n",
            "dangerous  -> amod         (planes)\n",
            "planes     -> dobj         (loves)\n",
            "more       -> advmod       (loves)\n",
            "than       -> prep         (more)\n",
            "the        -> det          (bride)\n",
            "bride      -> pobj         (than)\n",
            ".          -> punct        (loves)\n"
          ]
        }
      ]
    },
    {
      "cell_type": "markdown",
      "source": [
        "Syntactic and dependency parsing help a computer understand how words in a sentence are structured: who does what, to whom, and how. For example, they show which word is the subject, which one is the object, and what describes what.\n",
        "\n",
        "In a question answering system, this is very useful. If the question is “Who loves dangerous planes?”, the parser helps the program see that “the groom” is the one doing the action “loves” and “dangerous planes” is what he loves. That way, the computer can find the right answer based on the relationships between words, not just by matching keywords.\n",
        "\n",
        "In some way, it's also more deterministic, since it follows some explicit grammar rules."
      ],
      "metadata": {
        "id": "yAEY9N5BXJQi"
      }
    },
    {
      "cell_type": "code",
      "source": [],
      "metadata": {
        "id": "u44pZTiLrDZx"
      },
      "execution_count": null,
      "outputs": []
    }
  ]
}